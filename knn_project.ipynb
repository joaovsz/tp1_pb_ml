{
 "cells": [
  {
   "cell_type": "markdown",
   "id": "896fd224",
   "metadata": {},
   "source": [
    "# Carregamento de Dados\n",
    "Carregar a base de dados fornecida pelo professor diretamente do link ou após download, utilizando pandas."
   ]
  },
  {
   "cell_type": "code",
   "execution_count": null,
   "id": "26471b7c",
   "metadata": {},
   "outputs": [],
   "source": [
    "import pandas as pd\n",
    "\n",
    "def load_data(url):\n",
    "    \"\"\"Carrega os dados a partir de uma URL.\"\"\"\n",
    "    data = pd.read_csv(url)\n",
    "    return data\n",
    "\n",
    "# URL da base de dados\n",
    "url = \"https://raw.githubusercontent.com/professortiagoinfnet/inteligencia_artificial/main/heart.csv\"\n",
    "data = load_data(url)\n",
    "data.head()"
   ]
  },
  {
   "cell_type": "markdown",
   "id": "5a5f8313",
   "metadata": {},
   "source": [
    "# Exploração e Identificação de Features e Target\n",
    "Explorar a estrutura dos dados, identificar as colunas que serão usadas como features e a coluna alvo (target)."
   ]
  },
  {
   "cell_type": "code",
   "execution_count": null,
   "id": "885068d2",
   "metadata": {},
   "outputs": [],
   "source": [
    "def identify_features_and_target(data):\n",
    "    \"\"\"Identifica as features e o target no dataset.\"\"\"\n",
    "    features = data.columns[:-1]  # Todas as colunas, exceto a última\n",
    "    target = data.columns[-1]     # Última coluna como alvo\n",
    "    return features, target\n",
    "\n",
    "features, target = identify_features_and_target(data)\n",
    "print(\"Features:\", features)\n",
    "print(\"Target:\", target)"
   ]
  },
  {
   "cell_type": "markdown",
   "id": "91e8e689",
   "metadata": {},
   "source": [
    "# Divisão de Dados em Treino e Validação\n",
    "Dividir os dados em 80% para treino e 20% para validação utilizando train_test_split do Scikit-Learn."
   ]
  },
  {
   "cell_type": "code",
   "execution_count": null,
   "id": "5712cfd8",
   "metadata": {},
   "outputs": [],
   "source": [
    "from sklearn.model_selection import train_test_split\n",
    "\n",
    "def split_data(data, features, target, test_size=0.2, random_state=42):\n",
    "    \"\"\"Divide os dados em conjuntos de treino e validação.\"\"\"\n",
    "    X = data[features]\n",
    "    y = data[target]\n",
    "    return train_test_split(X, y, test_size=test_size, random_state=random_state)\n",
    "\n",
    "X_train, X_val, y_train, y_val = split_data(data, features, target)\n",
    "print(\"Tamanho do conjunto de treino:\", X_train.shape)\n",
    "print(\"Tamanho do conjunto de validação:\", X_val.shape)"
   ]
  },
  {
   "cell_type": "markdown",
   "id": "2ad0e1c3",
   "metadata": {},
   "source": [
    "# Transformação de Dados com Scikit-Learn\n",
    "Aplicar transformadores como StandardScaler para padronizar as variáveis numéricas."
   ]
  },
  {
   "cell_type": "code",
   "execution_count": null,
   "id": "c65478e9",
   "metadata": {},
   "outputs": [],
   "source": [
    "from sklearn.preprocessing import StandardScaler\n",
    "\n",
    "def preprocess_data(X_train, X_val):\n",
    "    \"\"\"Padroniza as variáveis numéricas.\"\"\"\n",
    "    scaler = StandardScaler()\n",
    "    X_train_scaled = scaler.fit_transform(X_train)\n",
    "    X_val_scaled = scaler.transform(X_val)\n",
    "    return X_train_scaled, X_val_scaled\n",
    "\n",
    "# Transformar variáveis categóricas em numéricas\n",
    "categorical_columns = X_train.select_dtypes(include=['object']).columns\n",
    "X_train = pd.get_dummies(X_train, columns=categorical_columns, drop_first=True)\n",
    "X_val = pd.get_dummies(X_val, columns=categorical_columns, drop_first=True)\n",
    "\n",
    "X_train_scaled, X_val_scaled = preprocess_data(X_train, X_val)"
   ]
  },
  {
   "cell_type": "markdown",
   "id": "b9e80cc0",
   "metadata": {},
   "source": [
    "# Implementação do Modelo K-Nearest Neighbors (KNN)\n",
    "Treinar o modelo KNN utilizando o conjunto de treino e ajustar o parâmetro K inicial."
   ]
  },
  {
   "cell_type": "code",
   "execution_count": null,
   "id": "7655c03e",
   "metadata": {},
   "outputs": [],
   "source": [
    "from sklearn.neighbors import KNeighborsClassifier\n",
    "\n",
    "def train_knn(X_train, y_train, k):\n",
    "    \"\"\"Treina o modelo KNN com o valor de K fornecido.\"\"\"\n",
    "    knn = KNeighborsClassifier(n_neighbors=k)\n",
    "    knn.fit(X_train, y_train)\n",
    "    return knn\n",
    "\n",
    "k_initial = 3\n",
    "knn = train_knn(X_train_scaled, y_train, k_initial)"
   ]
  },
  {
   "cell_type": "markdown",
   "id": "01885946",
   "metadata": {},
   "source": [
    "# Avaliação do Modelo com Acurácia\n",
    "Avaliar o modelo treinado utilizando o conjunto de validação e calcular a acurácia."
   ]
  },
  {
   "cell_type": "code",
   "execution_count": null,
   "id": "29b30fd3",
   "metadata": {},
   "outputs": [],
   "source": [
    "from sklearn.metrics import accuracy_score\n",
    "\n",
    "def evaluate_model(knn, X_val, y_val):\n",
    "    \"\"\"Avalia o modelo e retorna a acurácia.\"\"\"\n",
    "    y_pred = knn.predict(X_val)\n",
    "    return accuracy_score(y_val, y_pred)\n",
    "\n",
    "accuracy = evaluate_model(knn, X_val_scaled, y_val)\n",
    "print(f\"Acurácia do modelo com K={k_initial}: {accuracy:.2f}\")"
   ]
  },
  {
   "cell_type": "markdown",
   "id": "8c03fc9e",
   "metadata": {},
   "source": [
    "# Análise de Parâmetros do KNN\n",
    "Explorar diferentes valores de K, avaliar o impacto na acurácia e identificar o melhor valor de K."
   ]
  },
  {
   "cell_type": "code",
   "execution_count": null,
   "id": "241863c8",
   "metadata": {},
   "outputs": [],
   "source": [
    "def analyze_k_values(X_train, y_train, X_val, y_val, k_values):\n",
    "    \"\"\"Analisa diferentes valores de K e retorna o melhor K e suas acurácias.\"\"\"\n",
    "    accuracies = []\n",
    "    for k in k_values:\n",
    "        knn = train_knn(X_train, y_train, k)\n",
    "        acc = evaluate_model(knn, X_val, y_val)\n",
    "        accuracies.append(acc)\n",
    "    best_k = k_values[accuracies.index(max(accuracies))]\n",
    "    return best_k, accuracies\n",
    "\n",
    "k_values = range(1, 21)\n",
    "best_k, accuracies = analyze_k_values(X_train_scaled, y_train, X_val_scaled, y_val, k_values)\n",
    "print(f\"Melhor valor de K: {best_k} com acurácia de {max(accuracies):.2f}\")"
   ]
  }
 ],
 "metadata": {
  "language_info": {
   "name": "python"
  }
 },
 "nbformat": 4,
 "nbformat_minor": 5
}
